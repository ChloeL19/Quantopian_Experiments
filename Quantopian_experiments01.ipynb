{
 "cells": [
  {
   "cell_type": "code",
   "execution_count": 2,
   "metadata": {
    "collapsed": false
   },
   "outputs": [
    {
     "ename": "ImportError",
     "evalue": "No module named 'quantopian'",
     "output_type": "error",
     "traceback": [
      "\u001b[0;31m---------------------------------------------------------------------------\u001b[0m",
      "\u001b[0;31mImportError\u001b[0m                               Traceback (most recent call last)",
      "\u001b[0;32m<ipython-input-2-835469ccdee9>\u001b[0m in \u001b[0;36m<module>\u001b[0;34m()\u001b[0m\n\u001b[1;32m      1\u001b[0m \u001b[0;31m# research environment functions\u001b[0m\u001b[0;34m\u001b[0m\u001b[0;34m\u001b[0m\u001b[0m\n\u001b[0;32m----> 2\u001b[0;31m \u001b[0;32mfrom\u001b[0m \u001b[0mquantopian\u001b[0m\u001b[0;34m.\u001b[0m\u001b[0mresearch\u001b[0m \u001b[0;32mimport\u001b[0m \u001b[0mprices\u001b[0m\u001b[0;34m,\u001b[0m \u001b[0msymbols\u001b[0m\u001b[0;34m\u001b[0m\u001b[0m\n\u001b[0m\u001b[1;32m      3\u001b[0m \u001b[0;34m\u001b[0m\u001b[0m\n\u001b[1;32m      4\u001b[0m \u001b[0;31m# pandas library\u001b[0m\u001b[0;34m\u001b[0m\u001b[0;34m\u001b[0m\u001b[0m\n\u001b[1;32m      5\u001b[0m \u001b[0;32mimport\u001b[0m \u001b[0mpandas\u001b[0m \u001b[0;32mas\u001b[0m \u001b[0mpd\u001b[0m\u001b[0;34m\u001b[0m\u001b[0m\n",
      "\u001b[0;31mImportError\u001b[0m: No module named 'quantopian'"
     ]
    }
   ],
   "source": [
    "# research environment functions\n",
    "# YOU KNOW i THINK IT WILL BE SMOOTHER TO JUST DO THIS STUFF IN THE ACTUAL QUANTOPIAN BROWSER\n",
    "from quantopian.research import prices, symbols\n",
    "\n",
    "# pandas library\n",
    "import pandas as pd\n",
    "\n",
    "#query historical pricing data\n",
    "aaple_close = prices(\n",
    "    assets=symbols('AAPL'),\n",
    "    start='2013-01-01',\n",
    "    end='2016-01-01',\n",
    ")\n",
    "\n",
    "#compute 20 and 50 day moving averages on AAPL pricing data --> what is a moving average?\n",
    "aapl_sma20 = aapl_close.rolling(20).mean()\n",
    "aaple_sma50 = aaple_close.rolling(50).mean()\n",
    "\n",
    "# combine into pandas data frame and plot\n",
    "pd.DataFrame({\n",
    "    'AAPL': aapl_close,\n",
    "    'SMA20': aapl_sma20,\n",
    "    'SMA50': aaple_sma50\n",
    "}).plot(\n",
    "    title='AAPLE Close Price / SMA Crossover'\n",
    ");"
   ]
  },
  {
   "cell_type": "code",
   "execution_count": 3,
   "metadata": {
    "collapsed": true
   },
   "outputs": [],
   "source": [
    "import pandas as pd\n"
   ]
  },
  {
   "cell_type": "code",
   "execution_count": null,
   "metadata": {
    "collapsed": true
   },
   "outputs": [],
   "source": []
  }
 ],
 "metadata": {
  "anaconda-cloud": {},
  "kernelspec": {
   "display_name": "Python [conda root]",
   "language": "python",
   "name": "conda-root-py"
  },
  "language_info": {
   "codemirror_mode": {
    "name": "ipython",
    "version": 3
   },
   "file_extension": ".py",
   "mimetype": "text/x-python",
   "name": "python",
   "nbconvert_exporter": "python",
   "pygments_lexer": "ipython3",
   "version": "3.5.5"
  }
 },
 "nbformat": 4,
 "nbformat_minor": 2
}
